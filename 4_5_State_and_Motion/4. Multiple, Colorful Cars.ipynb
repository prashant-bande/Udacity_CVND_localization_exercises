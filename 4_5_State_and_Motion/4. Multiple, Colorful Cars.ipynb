{
 "cells": [
  {
   "cell_type": "markdown",
   "metadata": {},
   "source": [
    "# Creating colorful cars\n",
    "\n",
    "Now, the `car.py` file has been modified so that `__init__` takes in an optional color parameter!\n",
    "\n",
    "Your tasks for this notebook are:\n",
    "1. Create multiple cars of different colors\n",
    "2. Move them around and display the result\n",
    "3. (Optional) Add another variable to __init__ like maximum_speed or a boolean true or false depending on if the car has good speakers. It's up to you!\n",
    "\n",
    "Your options for color values include:\n",
    "* b: blue\n",
    "* g: green\n",
    "* r: red\n",
    "* c: cyan\n",
    "* m: magenta\n",
    "* y: yellow\n",
    "* k: black\n",
    "* w: white\n",
    "\n",
    "More color info can be found, [here](https://matplotlib.org/api/colors_api.html)."
   ]
  },
  {
   "cell_type": "code",
   "execution_count": 1,
   "metadata": {},
   "outputs": [],
   "source": [
    "import numpy as np\n",
    "import car\n",
    "\n",
    "%matplotlib inline\n",
    "\n",
    "# Auto-reload function so that this notebook keeps up with \n",
    "# changes in the class file \n",
    "%load_ext autoreload\n",
    "%autoreload 2"
   ]
  },
  {
   "cell_type": "markdown",
   "metadata": {},
   "source": [
    "### Define some initial variables"
   ]
  },
  {
   "cell_type": "code",
   "execution_count": 2,
   "metadata": {},
   "outputs": [],
   "source": [
    "# Create a 2D world of 0's\n",
    "height = 4\n",
    "width = 6\n",
    "world = np.zeros((height, width))\n",
    "\n",
    "# Define the initial car state\n",
    "initial_position = [0, 0] # [y, x] (top-left corner)\n",
    "velocity = [0, 1] # [vy, vx] (moving to the right)\n"
   ]
  },
  {
   "cell_type": "code",
   "execution_count": 3,
   "metadata": {},
   "outputs": [],
   "source": [
    "## Create two cars of different colors and display their different worlds\n",
    "carla_red = car.Car(position=initial_position,\n",
    "                    velocity=velocity,\n",
    "                    world=world,\n",
    "                    color = 'r')\n",
    "carla_blue = car.Car(position=initial_position,\n",
    "                     velocity=velocity,\n",
    "                     world=world,\n",
    "                     color='b')\n",
    "\n",
    "carla_red.move()\n",
    "carla_red.move()\n",
    "carla_red.turn_right()\n",
    "carla_red.move()\n",
    "carla_red.move()\n",
    "carla_blue.move()\n",
    "carla_blue.move()"
   ]
  },
  {
   "cell_type": "code",
   "execution_count": 4,
   "metadata": {},
   "outputs": [
    {
     "data": {
      "image/png": "[encoded data removed]",
      "text/plain": [
       "<Figure size 432x288 with 1 Axes>"
      ]
     },
     "metadata": {
      "needs_background": "light"
     },
     "output_type": "display_data"
    }
   ],
   "source": [
    "carla_red.display_world()"
   ]
  },
  {
   "cell_type": "code",
   "execution_count": 5,
   "metadata": {},
   "outputs": [
    {
     "data": {
      "image/png": "[encoded data removed]",
      "text/plain": [
       "<Figure size 432x288 with 1 Axes>"
      ]
     },
     "metadata": {
      "needs_background": "light"
     },
     "output_type": "display_data"
    }
   ],
   "source": [
    "carla_blue.display_world()"
   ]
  }
 ],
 "metadata": {
  "anaconda-cloud": {},
  "kernelspec": {
   "display_name": "Python 3",
   "language": "python",
   "name": "python3"
  },
  "language_info": {
   "codemirror_mode": {
    "name": "ipython",
    "version": 3
   },
   "file_extension": ".py",
   "mimetype": "text/x-python",
   "name": "python",
   "nbconvert_exporter": "python",
   "pygments_lexer": "ipython3",
   "version": "3.7.0"
  }
 },
 "nbformat": 4,
 "nbformat_minor": 1
}
